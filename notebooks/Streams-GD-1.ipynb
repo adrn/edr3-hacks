{
 "cells": [
  {
   "cell_type": "markdown",
   "metadata": {},
   "source": [
    "# GD-1"
   ]
  },
  {
   "cell_type": "code",
   "execution_count": null,
   "metadata": {},
   "outputs": [],
   "source": [
    "import pathlib\n",
    "import warnings\n",
    "\n",
    "import astropy.coordinates as coord\n",
    "import astropy.table as at\n",
    "import astropy.units as u\n",
    "import matplotlib as mpl\n",
    "import matplotlib.pyplot as plt\n",
    "%matplotlib inline\n",
    "import numpy as np\n",
    "\n",
    "from pyia import GaiaData\n",
    "import gala.coordinates as gc\n",
    "\n",
    "from astroquery.gaia import Gaia\n",
    "Gaia.login(credentials_file='/Users/apricewhelan/.gaia/archive.login')\n",
    "\n",
    "from stream_helpers import q_base"
   ]
  },
  {
   "cell_type": "code",
   "execution_count": null,
   "metadata": {},
   "outputs": [],
   "source": [
    "DATA_PATH = pathlib.Path('../data/').resolve()\n",
    "DATA_PATH.mkdir(exist_ok=True)"
   ]
  },
  {
   "cell_type": "code",
   "execution_count": null,
   "metadata": {},
   "outputs": [],
   "source": [
    "g = GaiaData('/Users/apricewhelan/projects/gd1-dr2/data/gd1-master.fits')\n",
    "probs = np.load('/Users/apricewhelan/projects/gd1-dr2/output/pm-model-phi1phi2prob.npy')"
   ]
  },
  {
   "cell_type": "code",
   "execution_count": null,
   "metadata": {},
   "outputs": [],
   "source": [
    "c = g.get_skycoord(distance=False)\n",
    "gd1_c = c.transform_to(gc.GD1Koposov10)"
   ]
  },
  {
   "cell_type": "code",
   "execution_count": null,
   "metadata": {},
   "outputs": [],
   "source": [
    "mask = probs[2] > 0.2\n",
    "\n",
    "fig, ax = plt.subplots(1, 1, figsize=(12, 2))\n",
    "ax.plot(gd1_c.phi1.value[mask], \n",
    "        gd1_c.phi2.value[mask], \n",
    "        ls='none', alpha=0.2, mew=0, marker='o', ms=1.5)"
   ]
  },
  {
   "cell_type": "code",
   "execution_count": null,
   "metadata": {},
   "outputs": [],
   "source": [
    "queries = []\n",
    "jobs = {}\n",
    "for l in np.arange(-110, 30, 10):\n",
    "    print(l)\n",
    "    \n",
    "    fn = DATA_PATH / f'gd1/gd1_{l:.0f}.fits'\n",
    "    fn.parent.mkdir(exist_ok=True)\n",
    "    \n",
    "    if fn.exists():\n",
    "        print(f'{fn} exists...skipping')\n",
    "        continue\n",
    "\n",
    "    corners = coord.SkyCoord(phi1=[l, l, l+10, l+10] * u.deg,\n",
    "                             phi2=[-10, 5, 5, -10] * u.deg,\n",
    "                             frame=gc.GD1Koposov10())\n",
    "    corners_icrs = corners.transform_to(coord.ICRS)\n",
    "    \n",
    "    q = q_base.format(corners_icrs)\n",
    "        \n",
    "    with warnings.catch_warnings():\n",
    "        warnings.simplefilter('ignore')\n",
    "        job = Gaia.launch_job_async(q, name='GD1_EDR3_{0}'.format(l),\n",
    "                                    background=True)\n",
    "    jobs[fn] = job"
   ]
  },
  {
   "cell_type": "code",
   "execution_count": null,
   "metadata": {},
   "outputs": [],
   "source": [
    "for fn, job in jobs.items():\n",
    "    tbl = job.get_results()\n",
    "\n",
    "    for c in tbl.colnames: # hack to make sure object arrays are string\n",
    "        if tbl[c].dtype == object:\n",
    "            tbl[c] = np.array(tbl[c]).astype(str)\n",
    "            \n",
    "    tbl.write(fn, overwrite=True)"
   ]
  },
  {
   "cell_type": "markdown",
   "metadata": {},
   "source": [
    "## Combine tables"
   ]
  },
  {
   "cell_type": "code",
   "execution_count": null,
   "metadata": {},
   "outputs": [],
   "source": [
    "from numpy.lib.recfunctions import stack_arrays"
   ]
  },
  {
   "cell_type": "code",
   "execution_count": null,
   "metadata": {},
   "outputs": [],
   "source": [
    "all_filename = DATA_PATH / 'gd1-all.fits'\n",
    "if not all_filename.exists():\n",
    "    arrs = []\n",
    "    for filename in glob.glob(str(DATA_PATH / 'gd1/gd1_*')):\n",
    "        arrs.append(np.array(fits.getdata(filename)))\n",
    "    arr = stack_arrays(arrs, asrecarray=True, usemask=False)\n",
    "    \n",
    "    t = Table(arr)\n",
    "    t.write(all_filename)"
   ]
  },
  {
   "cell_type": "code",
   "execution_count": null,
   "metadata": {},
   "outputs": [],
   "source": []
  }
 ],
 "metadata": {
  "kernelspec": {
   "display_name": "Python [conda env:root] *",
   "language": "python",
   "name": "conda-root-py"
  },
  "language_info": {
   "codemirror_mode": {
    "name": "ipython",
    "version": 3
   },
   "file_extension": ".py",
   "mimetype": "text/x-python",
   "name": "python",
   "nbconvert_exporter": "python",
   "pygments_lexer": "ipython3",
   "version": "3.8.3"
  },
  "toc": {
   "base_numbering": 1,
   "nav_menu": {},
   "number_sections": true,
   "sideBar": true,
   "skip_h1_title": false,
   "title_cell": "Table of Contents",
   "title_sidebar": "Contents",
   "toc_cell": false,
   "toc_position": {},
   "toc_section_display": true,
   "toc_window_display": false
  }
 },
 "nbformat": 4,
 "nbformat_minor": 4
}
